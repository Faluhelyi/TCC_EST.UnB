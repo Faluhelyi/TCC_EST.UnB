{
 "cells": [
  {
   "cell_type": "code",
   "execution_count": 122,
   "metadata": {},
   "outputs": [],
   "source": [
    "import pandas as pd\n",
    "import numpy as np\n",
    "import requests\n",
    "from bs4 import BeautifulSoup\n",
    "import wget\n",
    "import zipfile\n",
    "import warnings\n",
    "import patoolib\n",
    "import shutil\n",
    "import os\n",
    "import glob\n",
    "import matplotlib.pyplot as plt"
   ]
  },
  {
   "attachments": {},
   "cell_type": "markdown",
   "metadata": {},
   "source": [
    "# Rotina para Download e leitura dos arquivos"
   ]
  },
  {
   "attachments": {},
   "cell_type": "markdown",
   "metadata": {},
   "source": [
    "## Dowloading the .ZIP and .RAR files"
   ]
  },
  {
   "cell_type": "code",
   "execution_count": 123,
   "metadata": {},
   "outputs": [],
   "source": [
    "warnings.filterwarnings('ignore')\n",
    "\n",
    "# Request\n",
    "r1 = requests.get('https://www.gov.br/prf/pt-br/acesso-a-informacao/dados-abertos/dados-abertos-acidentes')\n",
    "r1.status_code\n",
    " \n",
    "# We'll save in coverpage the cover page content\n",
    "coverpage = r1.content\n",
    "\n",
    "# Soup creation\n",
    "soup1 = BeautifulSoup(coverpage, 'html.parser')\n",
    "\n",
    "# useful identification\n",
    "coverpage_useful = soup1.find_all('a', class_='external-link')\n",
    "\n",
    "coverpage_useful = np.delete(coverpage_useful, 6)\n",
    "\n",
    "# links to dowload\n",
    "\n",
    "links = np.array([])\n",
    "\n",
    "\n",
    "for i in range(len(coverpage_useful[4:20])):\n",
    "    links = np.append(links, coverpage_useful[4:20][i]['href'])\n",
    "\n"
   ]
  },
  {
   "cell_type": "code",
   "execution_count": 124,
   "metadata": {},
   "outputs": [],
   "source": [
    "url = links\n",
    "PATH = str('C:/Users/Igor/Desktop/TCC/')\n",
    "\n",
    "if os.path.isfile(str('C:/Users/Igor/Desktop/TCC/zips')) == False:\n",
    "    shutil.rmtree(str('C:/Users/Igor/Desktop/TCC/zips'))\n",
    "    os.makedirs(str('C:/Users/Igor/Desktop/TCC/zips'))\n",
    "\n",
    "else:\n",
    "    os.makedirs(str('C:/Users/Igor/Desktop/TCC/zips'))\n",
    "\n",
    "for i in range(len(url)):\n",
    "\n",
    "    if i <= 5:\n",
    "        wget.download(url[i], PATH + str('zips/') + str(coverpage_useful[4:20][i].get_text() + str('.zip')))\n",
    "\n",
    "    else:\n",
    "        wget.download(url[i], PATH + str('zips/') + str(coverpage_useful[4:20][i].get_text() + str('.rar')))\n"
   ]
  },
  {
   "attachments": {},
   "cell_type": "markdown",
   "metadata": {},
   "source": [
    "## Extracting .ZIP and .RAR Archives & reading them"
   ]
  },
  {
   "cell_type": "code",
   "execution_count": 125,
   "metadata": {},
   "outputs": [
    {
     "name": "stdout",
     "output_type": "stream",
     "text": [
      "patool: Extracting C:/Users/Igor/Desktop/TCC/zips/2022 (até Setembro).zip ...\n",
      "patool: ... C:/Users/Igor/Desktop/TCC/zips/2022 (até Setembro).zip extracted to `dados'.\n",
      "patool: Extracting C:/Users/Igor/Desktop/TCC/zips/2021.zip ...\n",
      "patool: ... C:/Users/Igor/Desktop/TCC/zips/2021.zip extracted to `dados'.\n",
      "patool: Extracting C:/Users/Igor/Desktop/TCC/zips/2020.zip ...\n",
      "patool: ... C:/Users/Igor/Desktop/TCC/zips/2020.zip extracted to `dados'.\n",
      "patool: Extracting C:/Users/Igor/Desktop/TCC/zips/2019.zip ...\n",
      "patool: ... C:/Users/Igor/Desktop/TCC/zips/2019.zip extracted to `dados'.\n",
      "patool: Extracting C:/Users/Igor/Desktop/TCC/zips/2018.zip ...\n",
      "patool: ... C:/Users/Igor/Desktop/TCC/zips/2018.zip extracted to `dados'.\n",
      "patool: Extracting C:/Users/Igor/Desktop/TCC/zips/2017.zip ...\n",
      "patool: ... C:/Users/Igor/Desktop/TCC/zips/2017.zip extracted to `dados'.\n",
      "patool: Extracting C:/Users/Igor/Desktop/TCC/zips/2016.rar ...\n",
      "patool: running \"C:\\Program Files\\WinRAR\\rar.EXE\" x -- C:\\Users\\Igor\\Desktop\\TCC\\zips\\2016.rar\n",
      "patool:     with cwd=dados\n",
      "patool: ... C:/Users/Igor/Desktop/TCC/zips/2016.rar extracted to `dados'.\n",
      "patool: Extracting C:/Users/Igor/Desktop/TCC/zips/2015.rar ...\n",
      "patool: running \"C:\\Program Files\\WinRAR\\rar.EXE\" x -- C:\\Users\\Igor\\Desktop\\TCC\\zips\\2015.rar\n",
      "patool:     with cwd=dados\n",
      "patool: ... C:/Users/Igor/Desktop/TCC/zips/2015.rar extracted to `dados'.\n",
      "patool: Extracting C:/Users/Igor/Desktop/TCC/zips/2014.rar ...\n",
      "patool: running \"C:\\Program Files\\WinRAR\\rar.EXE\" x -- C:\\Users\\Igor\\Desktop\\TCC\\zips\\2014.rar\n",
      "patool:     with cwd=dados\n",
      "patool: ... C:/Users/Igor/Desktop/TCC/zips/2014.rar extracted to `dados'.\n",
      "patool: Extracting C:/Users/Igor/Desktop/TCC/zips/2013.rar ...\n",
      "patool: running \"C:\\Program Files\\WinRAR\\rar.EXE\" x -- C:\\Users\\Igor\\Desktop\\TCC\\zips\\2013.rar\n",
      "patool:     with cwd=dados\n",
      "patool: ... C:/Users/Igor/Desktop/TCC/zips/2013.rar extracted to `dados'.\n",
      "patool: Extracting C:/Users/Igor/Desktop/TCC/zips/2012.rar ...\n",
      "patool: running \"C:\\Program Files\\WinRAR\\rar.EXE\" x -- C:\\Users\\Igor\\Desktop\\TCC\\zips\\2012.rar\n",
      "patool:     with cwd=dados\n",
      "patool: ... C:/Users/Igor/Desktop/TCC/zips/2012.rar extracted to `dados'.\n",
      "patool: Extracting C:/Users/Igor/Desktop/TCC/zips/2011.rar ...\n",
      "patool: running \"C:\\Program Files\\WinRAR\\rar.EXE\" x -- C:\\Users\\Igor\\Desktop\\TCC\\zips\\2011.rar\n",
      "patool:     with cwd=dados\n",
      "patool: ... C:/Users/Igor/Desktop/TCC/zips/2011.rar extracted to `dados'.\n",
      "patool: Extracting C:/Users/Igor/Desktop/TCC/zips/2010.rar ...\n",
      "patool: running \"C:\\Program Files\\WinRAR\\rar.EXE\" x -- C:\\Users\\Igor\\Desktop\\TCC\\zips\\2010.rar\n",
      "patool:     with cwd=dados\n",
      "patool: ... C:/Users/Igor/Desktop/TCC/zips/2010.rar extracted to `dados'.\n",
      "patool: Extracting C:/Users/Igor/Desktop/TCC/zips/2009.rar ...\n",
      "patool: running \"C:\\Program Files\\WinRAR\\rar.EXE\" x -- C:\\Users\\Igor\\Desktop\\TCC\\zips\\2009.rar\n",
      "patool:     with cwd=dados\n",
      "patool: ... C:/Users/Igor/Desktop/TCC/zips/2009.rar extracted to `dados'.\n",
      "patool: Extracting C:/Users/Igor/Desktop/TCC/zips/2008.rar ...\n",
      "patool: running \"C:\\Program Files\\WinRAR\\rar.EXE\" x -- C:\\Users\\Igor\\Desktop\\TCC\\zips\\2008.rar\n",
      "patool:     with cwd=dados\n",
      "patool: ... C:/Users/Igor/Desktop/TCC/zips/2008.rar extracted to `dados'.\n",
      "patool: Extracting C:/Users/Igor/Desktop/TCC/zips/2007.rar ...\n",
      "patool: running \"C:\\Program Files\\WinRAR\\rar.EXE\" x -- C:\\Users\\Igor\\Desktop\\TCC\\zips\\2007.rar\n",
      "patool:     with cwd=dados\n",
      "patool: ... C:/Users/Igor/Desktop/TCC/zips/2007.rar extracted to `dados'.\n"
     ]
    }
   ],
   "source": [
    "warnings.filterwarnings('ignore')\n",
    "\n",
    "if os.path.isfile(str('C:/Users/Igor/Desktop/TCC/scripts/dados')) == False:\n",
    "    shutil.rmtree(str('C:/Users/Igor/Desktop/TCC/scripts/dados'))\n",
    "    os.makedirs(str('C:/Users/Igor/Desktop/TCC/scripts/dados'))\n",
    "\n",
    "else:\n",
    "    os.makedirs(str('C:/Users/Igor/Desktop/TCC/scripts/dados'))\n",
    "\n",
    "\n",
    "for i in range(len(url)):\n",
    "\n",
    "    if i <= 5:\n",
    "        patoolib.extract_archive(PATH + str('zips/') + coverpage_useful[4:20][i].get_text() + str('.zip'), outdir='dados')\n",
    "\n",
    "    else:\n",
    "        patoolib.extract_archive(PATH + str('zips/') + coverpage_useful[4:20][i].get_text() + str('.rar'), outdir='dados')\n",
    "\n",
    "\n",
    "path_df = np.array([])\n",
    "for i in glob.glob('C:/Users/Igor/Desktop/TCC/scripts/dados/*'):\n",
    "    path_df = np.append(path_df, i)\n",
    "\n",
    "\n",
    "for i in range(len(path_df)):\n",
    "    if i == 0:\n",
    "        df = pd.read_csv(path_df[i], sep = ';', encoding='latin')\n",
    "        \n",
    "    else:\n",
    "        df = df.append(\n",
    "            pd.read_csv(path_df[i], sep = ';', encoding='latin'), ignore_index = True\n",
    "            )\n"
   ]
  },
  {
   "attachments": {},
   "cell_type": "markdown",
   "metadata": {},
   "source": [
    "# EDA"
   ]
  },
  {
   "cell_type": "code",
   "execution_count": 126,
   "metadata": {},
   "outputs": [
    {
     "name": "stdout",
     "output_type": "stream",
     "text": [
      "Início do período: 2007-01-01 00:00:00\n",
      "Final do período: 2022-09-30 00:00:00\n"
     ]
    }
   ],
   "source": [
    "print('Início do período:', pd.to_datetime(df['data_inversa']).min())\n",
    "print('Final do período:', pd.to_datetime(df['data_inversa']).max())"
   ]
  },
  {
   "cell_type": "code",
   "execution_count": 127,
   "metadata": {},
   "outputs": [
    {
     "data": {
      "text/html": [
       "<div>\n",
       "<style scoped>\n",
       "    .dataframe tbody tr th:only-of-type {\n",
       "        vertical-align: middle;\n",
       "    }\n",
       "\n",
       "    .dataframe tbody tr th {\n",
       "        vertical-align: top;\n",
       "    }\n",
       "\n",
       "    .dataframe thead th {\n",
       "        text-align: right;\n",
       "    }\n",
       "</style>\n",
       "<table border=\"1\" class=\"dataframe\">\n",
       "  <thead>\n",
       "    <tr style=\"text-align: right;\">\n",
       "      <th></th>\n",
       "      <th>id</th>\n",
       "      <th>pesid</th>\n",
       "      <th>data_inversa</th>\n",
       "      <th>dia_semana</th>\n",
       "      <th>horario</th>\n",
       "      <th>uf</th>\n",
       "      <th>br</th>\n",
       "      <th>km</th>\n",
       "      <th>municipio</th>\n",
       "      <th>causa_acidente</th>\n",
       "      <th>...</th>\n",
       "      <th>latitude</th>\n",
       "      <th>longitude</th>\n",
       "      <th>regional</th>\n",
       "      <th>delegacia</th>\n",
       "      <th>uop</th>\n",
       "      <th>ano</th>\n",
       "      <th>pessoas</th>\n",
       "      <th>ignorados</th>\n",
       "      <th>feridos</th>\n",
       "      <th>veiculos</th>\n",
       "    </tr>\n",
       "  </thead>\n",
       "  <tbody>\n",
       "    <tr>\n",
       "      <th>0</th>\n",
       "      <td>17.0</td>\n",
       "      <td>15.0</td>\n",
       "      <td>2017-01-01</td>\n",
       "      <td>domingo</td>\n",
       "      <td>01:45:00</td>\n",
       "      <td>RS</td>\n",
       "      <td>116.0</td>\n",
       "      <td>34,9</td>\n",
       "      <td>VACARIA</td>\n",
       "      <td>Defeito Mecânico no Veículo</td>\n",
       "      <td>...</td>\n",
       "      <td>-28,5071196</td>\n",
       "      <td>-50,941176</td>\n",
       "      <td>SPRF-RS</td>\n",
       "      <td>DEL05-RS</td>\n",
       "      <td>UOP03-DEL05-RS</td>\n",
       "      <td>NaN</td>\n",
       "      <td>NaN</td>\n",
       "      <td>NaN</td>\n",
       "      <td>NaN</td>\n",
       "      <td>NaN</td>\n",
       "    </tr>\n",
       "    <tr>\n",
       "      <th>1</th>\n",
       "      <td>20.0</td>\n",
       "      <td>1541.0</td>\n",
       "      <td>2017-01-01</td>\n",
       "      <td>domingo</td>\n",
       "      <td>01:00:00</td>\n",
       "      <td>PR</td>\n",
       "      <td>376.0</td>\n",
       "      <td>636</td>\n",
       "      <td>TIJUCAS DO SUL</td>\n",
       "      <td>Velocidade Incompatível</td>\n",
       "      <td>...</td>\n",
       "      <td>-25,754</td>\n",
       "      <td>-49,1266</td>\n",
       "      <td>SPRF-PR</td>\n",
       "      <td>DEL01-PR</td>\n",
       "      <td>DEL7/1-UOP08/PR</td>\n",
       "      <td>NaN</td>\n",
       "      <td>NaN</td>\n",
       "      <td>NaN</td>\n",
       "      <td>NaN</td>\n",
       "      <td>NaN</td>\n",
       "    </tr>\n",
       "    <tr>\n",
       "      <th>2</th>\n",
       "      <td>69.0</td>\n",
       "      <td>11707.0</td>\n",
       "      <td>2017-01-01</td>\n",
       "      <td>domingo</td>\n",
       "      <td>04:40:00</td>\n",
       "      <td>BA</td>\n",
       "      <td>101.0</td>\n",
       "      <td>65</td>\n",
       "      <td>ENTRE RIOS</td>\n",
       "      <td>Condutor Dormindo</td>\n",
       "      <td>...</td>\n",
       "      <td>-11,9618</td>\n",
       "      <td>-38,0953</td>\n",
       "      <td>SPRF-BA</td>\n",
       "      <td>DEL01-BA</td>\n",
       "      <td>UOP04-DEL01-BA</td>\n",
       "      <td>NaN</td>\n",
       "      <td>NaN</td>\n",
       "      <td>NaN</td>\n",
       "      <td>NaN</td>\n",
       "      <td>NaN</td>\n",
       "    </tr>\n",
       "  </tbody>\n",
       "</table>\n",
       "<p>3 rows × 40 columns</p>\n",
       "</div>"
      ],
      "text/plain": [
       "     id    pesid data_inversa dia_semana   horario  uf     br    km  \\\n",
       "0  17.0     15.0   2017-01-01    domingo  01:45:00  RS  116.0  34,9   \n",
       "1  20.0   1541.0   2017-01-01    domingo  01:00:00  PR  376.0   636   \n",
       "2  69.0  11707.0   2017-01-01    domingo  04:40:00  BA  101.0    65   \n",
       "\n",
       "        municipio               causa_acidente  ...     latitude   longitude  \\\n",
       "0         VACARIA  Defeito Mecânico no Veículo  ...  -28,5071196  -50,941176   \n",
       "1  TIJUCAS DO SUL      Velocidade Incompatível  ...      -25,754    -49,1266   \n",
       "2      ENTRE RIOS            Condutor Dormindo  ...     -11,9618    -38,0953   \n",
       "\n",
       "  regional delegacia              uop ano pessoas ignorados  feridos veiculos  \n",
       "0  SPRF-RS  DEL05-RS   UOP03-DEL05-RS NaN     NaN       NaN      NaN      NaN  \n",
       "1  SPRF-PR  DEL01-PR  DEL7/1-UOP08/PR NaN     NaN       NaN      NaN      NaN  \n",
       "2  SPRF-BA  DEL01-BA   UOP04-DEL01-BA NaN     NaN       NaN      NaN      NaN  \n",
       "\n",
       "[3 rows x 40 columns]"
      ]
     },
     "execution_count": 127,
     "metadata": {},
     "output_type": "execute_result"
    }
   ],
   "source": [
    "df.head(3)"
   ]
  },
  {
   "cell_type": "code",
   "execution_count": 128,
   "metadata": {},
   "outputs": [
    {
     "data": {
      "text/plain": [
       "Index(['id', 'pesid', 'data_inversa', 'dia_semana', 'horario', 'uf', 'br',\n",
       "       'km', 'municipio', 'causa_acidente', 'tipo_acidente',\n",
       "       'classificacao_acidente', 'fase_dia', 'sentido_via',\n",
       "       'condicao_metereologica', 'tipo_pista', 'tracado_via', 'uso_solo',\n",
       "       'id_veiculo', 'tipo_veiculo', 'marca', 'ano_fabricacao_veiculo',\n",
       "       'tipo_envolvido', 'estado_fisico', 'idade', 'sexo', 'ilesos',\n",
       "       'feridos_leves', 'feridos_graves', 'mortos', 'latitude', 'longitude',\n",
       "       'regional', 'delegacia', 'uop', 'ano', 'pessoas', 'ignorados',\n",
       "       'feridos', 'veiculos'],\n",
       "      dtype='object')"
      ]
     },
     "execution_count": 128,
     "metadata": {},
     "output_type": "execute_result"
    }
   ],
   "source": [
    "df.columns"
   ]
  },
  {
   "cell_type": "code",
   "execution_count": 129,
   "metadata": {},
   "outputs": [
    {
     "data": {
      "text/plain": [
       "326"
      ]
     },
     "execution_count": 129,
     "metadata": {},
     "output_type": "execute_result"
    }
   ],
   "source": [
    "#Número de BR's\n",
    "\n",
    "len(np.unique([i for i in df['br'].dropna() if i != np.nan]))"
   ]
  },
  {
   "cell_type": "code",
   "execution_count": 130,
   "metadata": {},
   "outputs": [
    {
     "data": {
      "text/plain": [
       "2330"
      ]
     },
     "execution_count": 130,
     "metadata": {},
     "output_type": "execute_result"
    }
   ],
   "source": [
    "#Número de municipio\n",
    "\n",
    "len(np.unique(df['municipio'].dropna()))"
   ]
  },
  {
   "cell_type": "code",
   "execution_count": 131,
   "metadata": {},
   "outputs": [
    {
     "data": {
      "text/plain": [
       "array(['(null)', 'Ceu Claro', 'Chuva', 'Céu Claro', 'Garoa/Chuvisco',\n",
       "       'Granizo', 'Ignorada', 'Ignorado', 'Neve', 'Nevoeiro/Neblina',\n",
       "       'Nevoeiro/neblina', 'Nublado', 'Sol', 'Vento'], dtype=object)"
      ]
     },
     "execution_count": 131,
     "metadata": {},
     "output_type": "execute_result"
    }
   ],
   "source": [
    "np.unique(df['condicao_metereologica'].dropna())"
   ]
  }
 ],
 "metadata": {
  "kernelspec": {
   "display_name": "Python 3.10.4 64-bit",
   "language": "python",
   "name": "python3"
  },
  "language_info": {
   "codemirror_mode": {
    "name": "ipython",
    "version": 3
   },
   "file_extension": ".py",
   "mimetype": "text/x-python",
   "name": "python",
   "nbconvert_exporter": "python",
   "pygments_lexer": "ipython3",
   "version": "3.10.4"
  },
  "orig_nbformat": 4,
  "vscode": {
   "interpreter": {
    "hash": "babe29f9f8ae1ef920676a330178c91336ee5761fdb08a64abfc6141f8ff49b0"
   }
  }
 },
 "nbformat": 4,
 "nbformat_minor": 2
}
