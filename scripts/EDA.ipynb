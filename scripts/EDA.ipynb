{
 "cells": [
  {
   "cell_type": "code",
   "execution_count": 1,
   "metadata": {},
   "outputs": [],
   "source": [
    "import pandas as pd\n",
    "import numpy as np\n",
    "import requests\n",
    "from bs4 import BeautifulSoup\n",
    "import wget\n",
    "import zipfile\n",
    "import warnings\n",
    "import patoolib\n",
    "import shutil\n",
    "import os\n",
    "import glob"
   ]
  },
  {
   "attachments": {},
   "cell_type": "markdown",
   "metadata": {},
   "source": [
    "# Rotina para Download e leitura dos arquivos"
   ]
  },
  {
   "attachments": {},
   "cell_type": "markdown",
   "metadata": {},
   "source": [
    "## Dowloading the .ZIP and .RAR files"
   ]
  },
  {
   "cell_type": "code",
   "execution_count": 7,
   "metadata": {},
   "outputs": [],
   "source": [
    "warnings.filterwarnings('ignore')\n",
    "\n",
    "# Request\n",
    "r1 = requests.get('https://www.gov.br/prf/pt-br/acesso-a-informacao/dados-abertos/dados-abertos-acidentes')\n",
    "r1.status_code\n",
    " \n",
    "# We'll save in coverpage the cover page content\n",
    "coverpage = r1.content\n",
    "\n",
    "# Soup creation\n",
    "soup1 = BeautifulSoup(coverpage, 'html.parser')\n",
    "\n",
    "# useful identification\n",
    "coverpage_useful = soup1.find_all('a', class_='external-link')\n",
    "\n",
    "coverpage_useful = np.delete(coverpage_useful, 6)\n",
    "\n",
    "# links to dowload\n",
    "\n",
    "links = np.array([])\n",
    "\n",
    "\n",
    "for i in range(len(coverpage_useful[4:20])):\n",
    "    links = np.append(links, coverpage_useful[4:20][i]['href'])\n",
    "\n"
   ]
  },
  {
   "cell_type": "code",
   "execution_count": 3,
   "metadata": {},
   "outputs": [],
   "source": [
    "url = links\n",
    "PATH = str('C:/Users/Igor/Desktop/TCC/')\n",
    "\n",
    "if os.path.isfile(str('C:/Users/Igor/Desktop/TCC/zips')) == False:\n",
    "    shutil.rmtree(str('C:/Users/Igor/Desktop/TCC/zips'))\n",
    "    os.makedirs(str('C:/Users/Igor/Desktop/TCC/zips'))\n",
    "\n",
    "else:\n",
    "    os.makedirs(str('C:/Users/Igor/Desktop/TCC/zips'))\n",
    "\n",
    "for i in range(len(url)):\n",
    "\n",
    "    if i <= 5:\n",
    "        wget.download(url[i], PATH + str('zips/') + str(coverpage_useful[4:20][i].get_text() + str('.zip')))\n",
    "\n",
    "    else:\n",
    "        wget.download(url[i], PATH + str('zips/') + str(coverpage_useful[4:20][i].get_text() + str('.rar')))\n"
   ]
  },
  {
   "attachments": {},
   "cell_type": "markdown",
   "metadata": {},
   "source": [
    "## Extracting .ZIP and .RAR Archives & reading them"
   ]
  },
  {
   "cell_type": "code",
   "execution_count": 4,
   "metadata": {},
   "outputs": [
    {
     "name": "stdout",
     "output_type": "stream",
     "text": [
      "patool: Extracting C:/Users/Igor/Desktop/TCC/zips/2022 (até Setembro).zip ...\n",
      "patool: ... C:/Users/Igor/Desktop/TCC/zips/2022 (até Setembro).zip extracted to `dados'.\n",
      "patool: Extracting C:/Users/Igor/Desktop/TCC/zips/2021.zip ...\n",
      "patool: ... C:/Users/Igor/Desktop/TCC/zips/2021.zip extracted to `dados'.\n",
      "patool: Extracting C:/Users/Igor/Desktop/TCC/zips/2020.zip ...\n",
      "patool: ... C:/Users/Igor/Desktop/TCC/zips/2020.zip extracted to `dados'.\n",
      "patool: Extracting C:/Users/Igor/Desktop/TCC/zips/2019.zip ...\n",
      "patool: ... C:/Users/Igor/Desktop/TCC/zips/2019.zip extracted to `dados'.\n",
      "patool: Extracting C:/Users/Igor/Desktop/TCC/zips/2018.zip ...\n",
      "patool: ... C:/Users/Igor/Desktop/TCC/zips/2018.zip extracted to `dados'.\n",
      "patool: Extracting C:/Users/Igor/Desktop/TCC/zips/2017.zip ...\n",
      "patool: ... C:/Users/Igor/Desktop/TCC/zips/2017.zip extracted to `dados'.\n",
      "patool: Extracting C:/Users/Igor/Desktop/TCC/zips/2016.rar ...\n",
      "patool: running \"C:\\Program Files\\WinRAR\\rar.EXE\" x -- C:\\Users\\Igor\\Desktop\\TCC\\zips\\2016.rar\n",
      "patool:     with cwd=dados\n",
      "patool: ... C:/Users/Igor/Desktop/TCC/zips/2016.rar extracted to `dados'.\n",
      "patool: Extracting C:/Users/Igor/Desktop/TCC/zips/2015.rar ...\n",
      "patool: running \"C:\\Program Files\\WinRAR\\rar.EXE\" x -- C:\\Users\\Igor\\Desktop\\TCC\\zips\\2015.rar\n",
      "patool:     with cwd=dados\n",
      "patool: ... C:/Users/Igor/Desktop/TCC/zips/2015.rar extracted to `dados'.\n",
      "patool: Extracting C:/Users/Igor/Desktop/TCC/zips/2014.rar ...\n",
      "patool: running \"C:\\Program Files\\WinRAR\\rar.EXE\" x -- C:\\Users\\Igor\\Desktop\\TCC\\zips\\2014.rar\n",
      "patool:     with cwd=dados\n",
      "patool: ... C:/Users/Igor/Desktop/TCC/zips/2014.rar extracted to `dados'.\n",
      "patool: Extracting C:/Users/Igor/Desktop/TCC/zips/2013.rar ...\n",
      "patool: running \"C:\\Program Files\\WinRAR\\rar.EXE\" x -- C:\\Users\\Igor\\Desktop\\TCC\\zips\\2013.rar\n",
      "patool:     with cwd=dados\n",
      "patool: ... C:/Users/Igor/Desktop/TCC/zips/2013.rar extracted to `dados'.\n",
      "patool: Extracting C:/Users/Igor/Desktop/TCC/zips/2012.rar ...\n",
      "patool: running \"C:\\Program Files\\WinRAR\\rar.EXE\" x -- C:\\Users\\Igor\\Desktop\\TCC\\zips\\2012.rar\n",
      "patool:     with cwd=dados\n",
      "patool: ... C:/Users/Igor/Desktop/TCC/zips/2012.rar extracted to `dados'.\n",
      "patool: Extracting C:/Users/Igor/Desktop/TCC/zips/2011.rar ...\n",
      "patool: running \"C:\\Program Files\\WinRAR\\rar.EXE\" x -- C:\\Users\\Igor\\Desktop\\TCC\\zips\\2011.rar\n",
      "patool:     with cwd=dados\n",
      "patool: ... C:/Users/Igor/Desktop/TCC/zips/2011.rar extracted to `dados'.\n",
      "patool: Extracting C:/Users/Igor/Desktop/TCC/zips/2010.rar ...\n",
      "patool: running \"C:\\Program Files\\WinRAR\\rar.EXE\" x -- C:\\Users\\Igor\\Desktop\\TCC\\zips\\2010.rar\n",
      "patool:     with cwd=dados\n",
      "patool: ... C:/Users/Igor/Desktop/TCC/zips/2010.rar extracted to `dados'.\n",
      "patool: Extracting C:/Users/Igor/Desktop/TCC/zips/2009.rar ...\n",
      "patool: running \"C:\\Program Files\\WinRAR\\rar.EXE\" x -- C:\\Users\\Igor\\Desktop\\TCC\\zips\\2009.rar\n",
      "patool:     with cwd=dados\n",
      "patool: ... C:/Users/Igor/Desktop/TCC/zips/2009.rar extracted to `dados'.\n",
      "patool: Extracting C:/Users/Igor/Desktop/TCC/zips/2008.rar ...\n",
      "patool: running \"C:\\Program Files\\WinRAR\\rar.EXE\" x -- C:\\Users\\Igor\\Desktop\\TCC\\zips\\2008.rar\n",
      "patool:     with cwd=dados\n",
      "patool: ... C:/Users/Igor/Desktop/TCC/zips/2008.rar extracted to `dados'.\n",
      "patool: Extracting C:/Users/Igor/Desktop/TCC/zips/2007.rar ...\n",
      "patool: running \"C:\\Program Files\\WinRAR\\rar.EXE\" x -- C:\\Users\\Igor\\Desktop\\TCC\\zips\\2007.rar\n",
      "patool:     with cwd=dados\n",
      "patool: ... C:/Users/Igor/Desktop/TCC/zips/2007.rar extracted to `dados'.\n"
     ]
    }
   ],
   "source": [
    "warnings.filterwarnings('ignore')\n",
    "\n",
    "if os.path.isfile(str('C:/Users/Igor/Desktop/TCC/scripts/dados')) == False:\n",
    "    shutil.rmtree(str('C:/Users/Igor/Desktop/TCC/scripts/dados'))\n",
    "    os.makedirs(str('C:/Users/Igor/Desktop/TCC/scripts/dados'))\n",
    "\n",
    "else:\n",
    "    os.makedirs(str('C:/Users/Igor/Desktop/TCC/scripts/dados'))\n",
    "\n",
    "\n",
    "for i in range(len(url)):\n",
    "\n",
    "    if i <= 5:\n",
    "        patoolib.extract_archive(PATH + str('zips/') + coverpage_useful[4:20][i].get_text() + str('.zip'), outdir='dados')\n",
    "\n",
    "    else:\n",
    "        patoolib.extract_archive(PATH + str('zips/') + coverpage_useful[4:20][i].get_text() + str('.rar'), outdir='dados')\n",
    "\n",
    "\n",
    "path_df = np.array([])\n",
    "for i in glob.glob('C:/Users/Igor/Desktop/TCC/scripts/dados/*'):\n",
    "    path_df = np.append(path_df, i)\n",
    "\n",
    "\n",
    "for i in range(len(path_df)):\n",
    "    if i == 0:\n",
    "        df = pd.read_csv(path_df[i], sep = ';', encoding='latin')\n",
    "        \n",
    "    else:\n",
    "        df = df.append(\n",
    "            pd.read_csv(path_df[i], sep = ';', encoding='latin'), ignore_index = True\n",
    "            )\n"
   ]
  },
  {
   "attachments": {},
   "cell_type": "markdown",
   "metadata": {},
   "source": [
    "# EDA"
   ]
  },
  {
   "cell_type": "code",
   "execution_count": 6,
   "metadata": {},
   "outputs": [
    {
     "name": "stdout",
     "output_type": "stream",
     "text": [
      "Início do período: 2007-01-01 00:00:00\n",
      "Final do período: 2022-09-30 00:00:00\n"
     ]
    }
   ],
   "source": [
    "print('Início do período:', pd.to_datetime(df['data_inversa']).min())\n",
    "print('Final do período:', pd.to_datetime(df['data_inversa']).max())"
   ]
  }
 ],
 "metadata": {
  "kernelspec": {
   "display_name": "Python 3.10.4 64-bit",
   "language": "python",
   "name": "python3"
  },
  "language_info": {
   "codemirror_mode": {
    "name": "ipython",
    "version": 3
   },
   "file_extension": ".py",
   "mimetype": "text/x-python",
   "name": "python",
   "nbconvert_exporter": "python",
   "pygments_lexer": "ipython3",
   "version": "3.10.4"
  },
  "orig_nbformat": 4,
  "vscode": {
   "interpreter": {
    "hash": "babe29f9f8ae1ef920676a330178c91336ee5761fdb08a64abfc6141f8ff49b0"
   }
  }
 },
 "nbformat": 4,
 "nbformat_minor": 2
}
